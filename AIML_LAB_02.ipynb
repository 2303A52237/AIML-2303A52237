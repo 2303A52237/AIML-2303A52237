{
  "nbformat": 4,
  "nbformat_minor": 0,
  "metadata": {
    "colab": {
      "provenance": [],
      "authorship_tag": "ABX9TyNyAXOEoRw9GNSax7UQZmgi",
      "include_colab_link": true
    },
    "kernelspec": {
      "name": "python3",
      "display_name": "Python 3"
    },
    "language_info": {
      "name": "python"
    }
  },
  "cells": [
    {
      "cell_type": "markdown",
      "metadata": {
        "id": "view-in-github",
        "colab_type": "text"
      },
      "source": [
        "<a href=\"https://colab.research.google.com/github/2303A52237/AIML-2303A52237/blob/main/AIML_LAB_02.ipynb\" target=\"_parent\"><img src=\"https://colab.research.google.com/assets/colab-badge.svg\" alt=\"Open In Colab\"/></a>"
      ]
    },
    {
      "cell_type": "code",
      "execution_count": 3,
      "metadata": {
        "colab": {
          "base_uri": "https://localhost:8080/"
        },
        "id": "UOyklH_Po2j9",
        "outputId": "e1f25c27-eda3-49fd-e2a9-49a0dabbd372"
      },
      "outputs": [
        {
          "output_type": "stream",
          "name": "stdout",
          "text": [
            "The adjacent list representing the graph is:\n",
            "{0: [1, 2, 3], 1: [0, 2], 2: [1, 3, 5], 3: [0, 2, 4], 4: [3, 5, 7], 5: [2, 4, 6, 7], 6: [5, 7], 7: []}\n",
            "BFS traversal of graph with source 1 is:\n",
            "1-->0-->2-->3-->5-->4-->6-->7-->BFS traversal of graph with source 0 is:\n",
            "0-->1-->2-->3-->5-->4-->6-->7-->"
          ]
        }
      ],
      "source": [
        "from queue import Queue\n",
        "\n",
        "graph={0:[1,2,3],\n",
        "       1:[0,2],\n",
        "       2:[1,3,5],\n",
        "       3:[0,2,4],\n",
        "       4:[3,5,7],\n",
        "       5:[2,4,6,7],\n",
        "       6:[5,7],\n",
        "       7:[]}\n",
        "print(\"The adjacent list representing the graph is:\")\n",
        "print(graph)\n",
        "def bfs(graph,source):\n",
        "  Q=Queue()\n",
        "  visited_vertices=set()\n",
        "  Q.put(source)\n",
        "  visited_vertices.add(source)\n",
        "  while not Q.empty():\n",
        "    vertex=Q.get()\n",
        "    print(vertex,end=\"-->\")\n",
        "    for u in graph [vertex]:\n",
        "      if u not in visited_vertices:\n",
        "        Q.put(u)\n",
        "        visited_vertices.add(u)\n",
        "   #print(\"null\")\n",
        "print(\"BFS traversal of graph with source 1 is:\")\n",
        "bfs(graph,1)\n",
        "print(\"BFS traversal of graph with source 0 is:\")\n",
        "bfs(graph,0)"
      ]
    },
    {
      "cell_type": "code",
      "source": [
        "graph={'A':['B','C','D','G'],\n",
        "       'B':['A'],\n",
        "       'C':['A','D','F'],\n",
        "       'D':['A','C','E','G','H'],\n",
        "       'E':['D','F','H'],\n",
        "       'F':['C','E'],\n",
        "       'G':['A','D','H'],\n",
        "       'H':['D','E','G']}\n",
        "\n",
        "def dfs(graph,node,visited):\n",
        "  if node not in visited:\n",
        "    visited.append(node)\n",
        "    for n in graph[node]:\n",
        "      dfs(graph,n,visited)\n",
        "  return visited\n",
        "\n",
        "print(dfs(graph,'B',[]))"
      ],
      "metadata": {
        "colab": {
          "base_uri": "https://localhost:8080/"
        },
        "id": "vaVKBoXSqIwV",
        "outputId": "b3cd8f4a-f324-4d7a-e644-4005c470904a"
      },
      "execution_count": 5,
      "outputs": [
        {
          "output_type": "stream",
          "name": "stdout",
          "text": [
            "['B', 'A', 'C', 'D', 'E', 'F', 'H', 'G']\n"
          ]
        }
      ]
    }
  ]
}